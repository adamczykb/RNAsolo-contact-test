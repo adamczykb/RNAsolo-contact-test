{
 "cells": [
  {
   "cell_type": "code",
   "execution_count": 72,
   "metadata": {},
   "outputs": [
    {
     "name": "stdout",
     "output_type": "stream",
     "text": [
      ">strand_T\n",
      "AUCC\n",
      "..((\n",
      ">strand_P\n",
      "GG\n",
      "))\n",
      "{'T': [['2', 'U', '.'], ['3', 'C', '('], ['4', 'C', '(']], 'P': [['1', 'G', ')'], ['2', 'G', ')']]}\n"
     ]
    }
   ],
   "source": [
    "import subprocess\n",
    "from tempfile import NamedTemporaryFile\n",
    "\n",
    "from rnapolis import parser, annotator, tertiary\n",
    "\n",
    "from contact_utils import ResiduesSelect, structure_cif_filter\n",
    "in_contact= {'A172', 'A415', 'T2', 'A319', 'A96', 'P2', 'A366', 'A386', 'P1', 'A367', 'A168', 'A604', 'A601', 'A97', 'A141', 'T4', 'A283', 'A318', 'T3'}\n",
    "structure3d=''\n",
    "with NamedTemporaryFile(suffix=\"_changed.cif\") as cif_rnapolis:\n",
    "    p1=subprocess.Popen('awk \\' {if (NF > 3) {$7 = $17; $9 = $16; print; } else { print; }}\\' < /home/adamczykb/projects/RNAsolo_neighbour/tmp8t1ieku9_RNA.cif' ,\n",
    "                        stdout=subprocess.PIPE,shell=True)\n",
    "    cif_rnapolis.write(p1.communicate()[0])\n",
    "    # structure_cif_filter('/home/adamczykb/projects/RNAsolo_neighbour/tmpqb7hfx3d_RNA.cif', ResiduesSelect(in_contact))\n",
    "    structure3d = parser.read_3d_structure(open(cif_rnapolis.name, \"r\"))\n",
    "    structure2d = annotator.extract_secondary_structure(structure3d)\n",
    "    mapping = tertiary.Mapping2D3D(\n",
    "        structure3d, structure2d.basePairs, structure2d.stackings, False\n",
    "    )\n",
    "    dbns = mapping._Mapping2D3D__generate_dot_bracket_per_strand(mapping.bpseq)\n",
    "    i = 0\n",
    "    struct3d=dict() # chain,seq_id,pairing\n",
    "\n",
    "    for i, nucleotide in enumerate([i.chain+'.'+str(i.number)+'.'+i.name for i in structure3d.residues if i.is_nucleotide]):\n",
    "        new_sequence=[]\n",
    "        if ''.join(nucleotide.split('.')[:2]) in in_contact:\n",
    "            if nucleotide.split('.')[0] not in struct3d.keys():\n",
    "                struct3d[nucleotide.split('.')[0]]=[]\n",
    "            struct3d[nucleotide.split('.')[0]].append([nucleotide.split('.')[1],nucleotide.split('.')[2],mapping.bpseq.dot_bracket.structure[i]])\n",
    "        \n",
    "    print(mapping.dot_bracket)\n",
    "    print(struct3d)\n"
   ]
  },
  {
   "cell_type": "code",
   "execution_count": 71,
   "metadata": {},
   "outputs": [
    {
     "name": "stdout",
     "output_type": "stream",
     "text": [
      "['T1', 'T2', 'T3', 'T4', 'P1', 'P2']\n",
      "[SingleStrand(strand=Strand(first=1, last=3, sequence='AUC', structure='..('), is5p=True, is3p=False)]\n",
      "[('T', 'AUCC'), ('P', 'GG')]\n",
      "Mapping2D3D(structure3d=Structure3D(residues=[T.A1, T.U2, T.C3, T.C4, T.HOH101, T.HOH102, T.HOH103, T.HOH104, T.HOH105, T.HOH106, T.HOH107, T.HOH108, T.HOH109, T.HOH110, P.G1, P.G2, P.HOH101, P.HOH102, P.HOH103, P.HOH104, P.HOH105], residue_map={ResidueLabel(chain='T', number=1, name='A'): T.A1, ResidueLabel(chain='T', number=2, name='U'): T.U2, ResidueLabel(chain='T', number=3, name='C'): T.C3, ResidueLabel(chain='T', number=4, name='C'): T.C4, ResidueLabel(chain='T', number=101, name='HOH'): T.HOH101, ResidueLabel(chain='T', number=102, name='HOH'): T.HOH102, ResidueLabel(chain='T', number=103, name='HOH'): T.HOH103, ResidueLabel(chain='T', number=104, name='HOH'): T.HOH104, ResidueLabel(chain='T', number=105, name='HOH'): T.HOH105, ResidueLabel(chain='T', number=106, name='HOH'): T.HOH106, ResidueLabel(chain='T', number=107, name='HOH'): T.HOH107, ResidueLabel(chain='T', number=108, name='HOH'): T.HOH108, ResidueLabel(chain='T', number=109, name='HOH'): T.HOH109, ResidueLabel(chain='T', number=110, name='HOH'): T.HOH110, ResidueLabel(chain='P', number=1, name='G'): P.G1, ResidueLabel(chain='P', number=2, name='G'): P.G2, ResidueLabel(chain='P', number=101, name='HOH'): P.HOH101, ResidueLabel(chain='P', number=102, name='HOH'): P.HOH102, ResidueLabel(chain='P', number=103, name='HOH'): P.HOH103, ResidueLabel(chain='P', number=104, name='HOH'): P.HOH104, ResidueLabel(chain='P', number=105, name='HOH'): P.HOH105}), base_pairs2d=[BasePair(nt1=Residue(label=ResidueLabel(chain='P', number=1, name='G'), auth=None), nt2=Residue(label=ResidueLabel(chain='T', number=4, name='C'), auth=None), lw=<LeontisWesthof.cWW: 'cWW'>, saenger=<Saenger.XIX: 'XIX'>), BasePair(nt1=Residue(label=ResidueLabel(chain='P', number=2, name='G'), auth=None), nt2=Residue(label=ResidueLabel(chain='T', number=3, name='C'), auth=None), lw=<LeontisWesthof.cWW: 'cWW'>, saenger=<Saenger.XIX: 'XIX'>)], stackings2d=[Stacking(nt1=Residue(label=ResidueLabel(chain='P', number=1, name='G'), auth=None), nt2=Residue(label=ResidueLabel(chain='P', number=2, name='G'), auth=None), topology=<StackingTopology.upward: 'upward'>), Stacking(nt1=Residue(label=ResidueLabel(chain='P', number=2, name='G'), auth=None), nt2=Residue(label=ResidueLabel(chain='T', number=4, name='C'), auth=None), topology=<StackingTopology.outward: 'outward'>), Stacking(nt1=Residue(label=ResidueLabel(chain='T', number=2, name='U'), auth=None), nt2=Residue(label=ResidueLabel(chain='T', number=3, name='C'), auth=None), topology=<StackingTopology.upward: 'upward'>), Stacking(nt1=Residue(label=ResidueLabel(chain='T', number=3, name='C'), auth=None), nt2=Residue(label=ResidueLabel(chain='T', number=4, name='C'), auth=None), topology=<StackingTopology.upward: 'upward'>)], find_gaps=False)\n",
      "..(())\n"
     ]
    },
    {
     "ename": "AttributeError",
     "evalue": "'Residue3D' object has no attribute 'is_nuleotide'",
     "output_type": "error",
     "traceback": [
      "\u001b[0;31m---------------------------------------------------------------------------\u001b[0m",
      "\u001b[0;31mAttributeError\u001b[0m                            Traceback (most recent call last)",
      "Cell \u001b[0;32mIn[71], line 6\u001b[0m\n\u001b[1;32m      4\u001b[0m \u001b[38;5;28mprint\u001b[39m(mapping)\n\u001b[1;32m      5\u001b[0m \u001b[38;5;28mprint\u001b[39m(mapping\u001b[38;5;241m.\u001b[39mbpseq\u001b[38;5;241m.\u001b[39mdot_bracket\u001b[38;5;241m.\u001b[39mstructure)\n\u001b[0;32m----> 6\u001b[0m \u001b[43mstructure3d\u001b[49m\u001b[38;5;241;43m.\u001b[39;49m\u001b[43mresidues\u001b[49m\u001b[43m[\u001b[49m\u001b[38;5;241;43m4\u001b[39;49m\u001b[43m]\u001b[49m\u001b[38;5;241;43m.\u001b[39;49m\u001b[43mis_nuleotide\u001b[49m\n",
      "\u001b[0;31mAttributeError\u001b[0m: 'Residue3D' object has no attribute 'is_nuleotide'"
     ]
    }
   ],
   "source": [
    "print([i.chain+str(i.number) for i in structure3d.residues if i.is_nucleotide])\n",
    "print(structure2d.singleStrands)\n",
    "print(mapping.strands_sequences)\n",
    "print(mapping)\n",
    "print(mapping.bpseq.dot_bracket.structure)\n",
    "structure3d.residues[4].is_nuleotide"
   ]
  }
 ],
 "metadata": {
  "kernelspec": {
   "display_name": "Python 3",
   "language": "python",
   "name": "python3"
  },
  "language_info": {
   "codemirror_mode": {
    "name": "ipython",
    "version": 3
   },
   "file_extension": ".py",
   "mimetype": "text/x-python",
   "name": "python",
   "nbconvert_exporter": "python",
   "pygments_lexer": "ipython3",
   "version": "3.11.8"
  }
 },
 "nbformat": 4,
 "nbformat_minor": 2
}
