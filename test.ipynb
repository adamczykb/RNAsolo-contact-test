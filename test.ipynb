{
 "cells": [
  {
   "cell_type": "code",
   "execution_count": 1,
   "metadata": {},
   "outputs": [
    {
     "name": "stdout",
     "output_type": "stream",
     "text": [
      " ExecutiveLoad-Detail: Detected mmCIF\n",
      " ExecutiveLoad-Detail: Detected mmCIF\n",
      " ExecutiveLoad-Detail: Detected mmCIF\n"
     ]
    },
    {
     "name": "stderr",
     "output_type": "stream",
     "text": [
      "Cannot reconstruct PDBx, file seems to be empty\n"
     ]
    }
   ],
   "source": [
    "import os\n",
    "from tempfile import NamedTemporaryFile\n",
    "\n",
    "os.chdir(\"/local/\")\n",
    "\n",
    "from contact_utils import FileType, ResiduesSelect, get_file, split_structure_to_hermetic_chains, structure_cif_filter\n",
    "from find_contact import (\n",
    "    InContactResult,\n",
    "    find_contact_hybrid_ligand_protein,\n",
    "    find_contact_ion,\n",
    "    get_dot_bracket_and_filter,\n",
    "    get_dssp_and_filter,\n",
    ")\n",
    "from pymol import cmd\n",
    "\n",
    "\n",
    "pdb_id = \"1PJG\"\n",
    "model = 1\n",
    "chains = [\"A\"]\n",
    "\n",
    "result = InContactResult()\n",
    "find_contact_hybrid_ligand_protein(pdb_id, model, chains, result)\n",
    "find_contact_ion(pdb_id, model, chains, result)\n",
    "\n",
    "structure_file_path_cif, _ = get_file(pdb_id, model, FileType.CIF,save_ions=True,ligands=True)\n",
    "rna_file = NamedTemporaryFile(suffix=\"_RNA.cif\", delete=False)\n",
    "dna_file = NamedTemporaryFile(suffix=\"_DNA.cif\", delete=False)\n",
    "protein_file = NamedTemporaryFile(suffix=\"_PROTEIN.cif\", delete=False)\n",
    "ion_file = NamedTemporaryFile(suffix=\"_ION.cif\", delete=False)\n",
    "split_structure_to_hermetic_chains(\n",
    "    structure_file_path_cif,\n",
    "    [rna_file.name, dna_file.name, protein_file.name, ion_file.name],\n",
    "    model,\n",
    ")\n",
    "\n",
    "result.dot_bracket_file_path = get_dot_bracket_and_filter(\n",
    "    rna_file.name, result.in_contact\n",
    ")\n",
    "\n",
    "cmd.delete(\"all\")\n",
    "cmd.load(rna_file.name, f\"{pdb_id.upper()}_RNA\", quiet=1)\n",
    "cmd.save(rna_file.name.split(\".\")[0] + \".fasta\", quiet=1)\n",
    "result.rna_file_cif = rna_file.name\n",
    "result.rna_file_fasta = rna_file.name.split(\".\")[0] + \".fasta\"\n",
    "\n",
    "try:\n",
    "    structure_cif_filter(dna_file.name, ResiduesSelect(result.in_contact))\n",
    "    cmd.delete(\"all\")\n",
    "    cmd.load(dna_file.name, f\"{pdb_id.upper()}_DNA\", quiet=1)\n",
    "    cmd.save(dna_file.name.split(\".\")[0] + \".fasta\", quiet=1)\n",
    "    result.dna_file_cif = dna_file.name\n",
    "    result.dna_file_fasta = dna_file.name.split(\".\")[0] + \".fasta\"\n",
    "except ValueError:\n",
    "    os.remove(dna_file.name)\n",
    "try:\n",
    "    get_dssp_and_filter(protein_file.name, result.in_contact)\n",
    "    cmd.delete(\"all\")\n",
    "    cmd.load(protein_file.name, f\"{pdb_id.upper()}_PROTEIN\", quiet=1)\n",
    "    cmd.save(protein_file.name.split(\".\")[0] + \".fasta\", quiet=1)\n",
    "    result.protein_file_cif = protein_file.name\n",
    "    result.protein_file_fasta = protein_file.name.split(\".\")[0] + \".fasta\"\n",
    "except ValueError:\n",
    "    os.remove(protein_file.name)\n",
    "\n",
    "try:\n",
    "    structure_cif_filter(ion_file.name, ResiduesSelect(result.in_contact))\n",
    "    cmd.delete(\"all\")\n",
    "    cmd.load(ion_file.name, f\"{pdb_id.upper()}_ION\", quiet=1)\n",
    "    cmd.save(ion_file.name.split(\".\")[0] + \".fasta\", quiet=1)\n",
    "    result.ion_motif_cif = ion_file.name\n",
    "    result.ion_motif_fasta = ion_file.name.split(\".\")[0] + \".fasta\"\n",
    "except ValueError:\n",
    "    os.remove(ion_file.name)\n",
    "\n",
    "structure_cif_filter(structure_file_path_cif, ResiduesSelect(result.in_contact))\n",
    "cmd.delete(\"all\")\n",
    "cmd.load(structure_file_path_cif, f\"{pdb_id.upper()}_FULL_MOTIF\", quiet=1)\n",
    "cmd.save(structure_file_path_cif.split(\".\")[0] + \".fasta\", quiet=1)\n",
    "result.full_motif_cif=structure_file_path_cif\n",
    "result.full_motif_fasta=structure_file_path_cif.split(\".\")[0] + \".fasta\"\n"
   ]
  },
  {
   "cell_type": "code",
   "execution_count": 3,
   "metadata": {},
   "outputs": [
    {
     "name": "stdout",
     "output_type": "stream",
     "text": [
      "A.33 True {'B.18', 'A.4', 'B.11', 'B.16', 'B.17', 'B.13', 'A.7', 'A.1', 'A.33', 'A.10', 'A.6', 'A.8', 'B.15', 'A.5', 'A.9', 'A.3', 'B.31', 'B.20', 'B.34', 'B.14', 'B.12', 'A.2', 'B.19'}\n"
     ]
    }
   ],
   "source": [
    "structure_cif_filter(structure_file_path_cif, ResiduesSelect(result.in_contact))"
   ]
  },
  {
   "cell_type": "code",
   "execution_count": 4,
   "metadata": {},
   "outputs": [
    {
     "data": {
      "text/plain": [
       "'/tmp/tmps6jhzpkh.cif'"
      ]
     },
     "execution_count": 4,
     "metadata": {},
     "output_type": "execute_result"
    }
   ],
   "source": [
    "structure_file_path_cif"
   ]
  },
  {
   "cell_type": "code",
   "execution_count": 2,
   "metadata": {},
   "outputs": [
    {
     "name": "stdout",
     "output_type": "stream",
     "text": [
      "data_str\n",
      "#\n",
      "loop_\n",
      "_atom_site.group_PDB\n",
      "_atom_site.id\n",
      "_atom_site.type_symbol\n",
      "_atom_site.label_atom_id\n",
      "_atom_site.label_alt_id\n",
      "_atom_site.label_comp_id\n",
      "_atom_site.label_asym_id\n",
      "_atom_site.label_entity_id\n",
      "_atom_site.label_seq_id\n",
      "_atom_site.pdbx_PDB_ins_code\n",
      "_atom_site.Cartn_x\n",
      "_atom_site.Cartn_y\n",
      "_atom_site.Cartn_z\n",
      "_atom_site.occupancy\n",
      "_atom_site.B_iso_or_equiv\n",
      "_atom_site.auth_seq_id\n",
      "_atom_site.auth_asym_id\n",
      "_atom_site.pdbx_PDB_model_num\n",
      "HETATM 1 CA CA A CA A ? . ? 2.929  38.810 35.292 0.5 22.83 32 A 1 \n",
      "HETATM 2 CA CA B CA A ? . ? 4.326  38.218 33.615 0.5 19.16 32 A 1 \n",
      "HETATM 3 CA CA . CA A ? . ? 5.143  50.416 26.746 1.0 11.92 33 A 1 \n",
      "HETATM 4 CA CA . CA B ? . ? 17.269 34.411 42.726 1.0 8.69  31 B 1 \n",
      "HETATM 5 CA CA . CA B ? . ? 15.131 33.954 48.061 1.0 12.59 34 B 1 \n",
      "#\n"
     ]
    }
   ],
   "source": [
    "!cat {ion_file.name}"
   ]
  },
  {
   "cell_type": "code",
   "execution_count": 2,
   "metadata": {},
   "outputs": [],
   "source": [
    "import pandas as pd\n",
    "\n",
    "from hbplus_process_cif import MoleculeType\n",
    "\n",
    "\n",
    "\n"
   ]
  },
  {
   "cell_type": "code",
   "execution_count": null,
   "metadata": {},
   "outputs": [],
   "source": [
    "from hbplus_process_cif import MoleculeType\n",
    "\n",
    "\n"
   ]
  },
  {
   "cell_type": "code",
   "execution_count": 4,
   "metadata": {},
   "outputs": [
    {
     "data": {
      "text/plain": [
       "{}"
      ]
     },
     "execution_count": 4,
     "metadata": {},
     "output_type": "execute_result"
    }
   ],
   "source": [
    "in_contact_desc"
   ]
  }
 ],
 "metadata": {
  "kernelspec": {
   "display_name": "Python 3",
   "language": "python",
   "name": "python3"
  },
  "language_info": {
   "codemirror_mode": {
    "name": "ipython",
    "version": 3
   },
   "file_extension": ".py",
   "mimetype": "text/x-python",
   "name": "python",
   "nbconvert_exporter": "python",
   "pygments_lexer": "ipython3",
   "version": "3.11.8"
  }
 },
 "nbformat": 4,
 "nbformat_minor": 2
}
