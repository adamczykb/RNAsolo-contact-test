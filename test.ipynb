{
 "cells": [
  {
   "cell_type": "code",
   "execution_count": 3,
   "metadata": {},
   "outputs": [
    {
     "name": "stdout",
     "output_type": "stream",
     "text": [
      "{0: {'RNA': ['A'], 'DNA': ['B'], 'Protein': [], 'Ligand': []}}\n"
     ]
    }
   ],
   "source": [
    "import os\n",
    "import subprocess\n",
    "\n",
    "import requests\n",
    "os.chdir('/local/')\n",
    "\n",
    "from tempfile import NamedTemporaryFile\n",
    "from typing import List\n",
    "from contact_utils import ChainsSelect, FileType, ResiduesSelect, get_file, split_structure_to_hermetic_chains, structure_cif_filter\n",
    "from find_contact import DNAProtLigandResult, find_contact_hybrid_ligand_protein, find_contact_ion, get_dot_bracket_and_filter, get_dssp_and_filter\n",
    "from hbplus_process_cif import get_hbplus_result_for_large_structure\n",
    "from pymol import cmd\n",
    "\n",
    "\n",
    "pdb_id='1PJG'\n",
    "model=1\n",
    "chains=['A']\n",
    "structure_file_path, file_type = get_file(pdb_id, model, FileType.CIF,save_ions=False,ligands=True)\n",
    "hb_path_tsv, in_contact, in_contact_desc = get_hbplus_result_for_large_structure(\n",
    "        structure_file_path, chains\n",
    ")\n",
    "structure, in_contact_2, in_contact_desc_2 = find_contact_ion(pdb_id, model, chains)"
   ]
  },
  {
   "cell_type": "code",
   "execution_count": 6,
   "metadata": {},
   "outputs": [],
   "source": [
    "for kres,res in in_contact_desc_2.items():\n",
    "    if kres in in_contact_desc:\n",
    "        in_contact_desc[kres].extend(res)\n",
    "    else:\n",
    "        in_contact_desc[kres]=kres"
   ]
  },
  {
   "cell_type": "code",
   "execution_count": 7,
   "metadata": {},
   "outputs": [
    {
     "data": {
      "text/plain": [
       "{'A.1': [('B.20', 'DG', <MoleculeType.DNA: 0>)],\n",
       " 'A.2': [('B.19', 'DT', <MoleculeType.DNA: 0>)],\n",
       " 'A.3': [('B.18', 'DT', <MoleculeType.DNA: 0>)],\n",
       " 'A.4': [('B.17', 'DT', <MoleculeType.DNA: 0>)],\n",
       " 'A.5': [('B.16', 'DC', <MoleculeType.DNA: 0>)],\n",
       " 'A.6': [('B.15', 'DT', <MoleculeType.DNA: 0>)],\n",
       " 'A.7': [('B.14', 'DT', <MoleculeType.DNA: 0>)],\n",
       " 'A.8': [('B.13', 'DT', <MoleculeType.DNA: 0>)],\n",
       " 'A.9': [('B.12', 'DT', <MoleculeType.DNA: 0>),\n",
       "  ['A.33', 'CA', <MoleculeType.ION: 3>]],\n",
       " 'A.10': [('B.11', 'DC', <MoleculeType.DNA: 0>)]}"
      ]
     },
     "execution_count": 7,
     "metadata": {},
     "output_type": "execute_result"
    }
   ],
   "source": [
    "in_contact_desc"
   ]
  },
  {
   "cell_type": "code",
   "execution_count": 2,
   "metadata": {},
   "outputs": [],
   "source": [
    "import pandas as pd\n",
    "\n",
    "from hbplus_process_cif import MoleculeType\n",
    "\n",
    "\n",
    "\n"
   ]
  },
  {
   "cell_type": "code",
   "execution_count": null,
   "metadata": {},
   "outputs": [],
   "source": [
    "from hbplus_process_cif import MoleculeType\n",
    "\n",
    "\n"
   ]
  },
  {
   "cell_type": "code",
   "execution_count": 4,
   "metadata": {},
   "outputs": [
    {
     "data": {
      "text/plain": [
       "{}"
      ]
     },
     "execution_count": 4,
     "metadata": {},
     "output_type": "execute_result"
    }
   ],
   "source": [
    "in_contact_desc"
   ]
  }
 ],
 "metadata": {
  "kernelspec": {
   "display_name": "Python 3",
   "language": "python",
   "name": "python3"
  },
  "language_info": {
   "codemirror_mode": {
    "name": "ipython",
    "version": 3
   },
   "file_extension": ".py",
   "mimetype": "text/x-python",
   "name": "python",
   "nbconvert_exporter": "python",
   "pygments_lexer": "ipython3",
   "version": "3.11.8"
  }
 },
 "nbformat": 4,
 "nbformat_minor": 2
}
